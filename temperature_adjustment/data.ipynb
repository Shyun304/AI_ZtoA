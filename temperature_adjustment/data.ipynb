{
 "cells": [
  {
   "cell_type": "code",
   "execution_count": 51,
   "metadata": {},
   "outputs": [],
   "source": [
    "import pandas as pd\n",
    "import json\n",
    "import matplotlib.pyplot as plt"
   ]
  },
  {
   "cell_type": "code",
   "execution_count": 38,
   "metadata": {},
   "outputs": [],
   "source": [
    "file_path = \"./data/metadata_H_80_train.json\"\n",
    "pairfile_path = \"./data/고_pair_20210219/metadata_H_pair_train_80.json\""
   ]
  },
  {
   "cell_type": "code",
   "execution_count": 5,
   "metadata": {},
   "outputs": [],
   "source": [
    "df=pd.read_json(file_path)"
   ]
  },
  {
   "cell_type": "code",
   "execution_count": 7,
   "metadata": {},
   "outputs": [
    {
     "data": {
      "text/plain": [
       "<bound method NDFrame.abs of                                     environmental_factors  \\\n",
       "0       {'illumination': 0, 'temp_inside': 0.0, 'camer...   \n",
       "1       {'illumination': 0, 'temp_inside': 0.0, 'camer...   \n",
       "2       {'illumination': 0, 'temp_inside': 0.0, 'camer...   \n",
       "3       {'illumination': 0, 'temp_inside': 0.0, 'camer...   \n",
       "4       {'illumination': 0, 'temp_inside': 0.0, 'camer...   \n",
       "...                                                   ...   \n",
       "286737  {'illumination': 430, 'temp_inside': 20.1, 'ca...   \n",
       "286738  {'illumination': 430, 'temp_inside': 20.1, 'ca...   \n",
       "286739  {'illumination': 430, 'temp_inside': 20.1, 'ca...   \n",
       "286740  {'illumination': 430, 'temp_inside': 20.1, 'ca...   \n",
       "286741  {'illumination': 430, 'temp_inside': 20.1, 'ca...   \n",
       "\n",
       "                                       individual_factors  \\\n",
       "0       [{'camera_temp': 36.6, 'individual_temp': 0.0,...   \n",
       "1       [{'camera_temp': 36.4, 'individual_temp': 0.0,...   \n",
       "2       [{'camera_temp': 36.4, 'individual_temp': 0.0,...   \n",
       "3       [{'camera_temp': 36.5, 'individual_temp': 0.0,...   \n",
       "4       [{'camera_temp': 36.6, 'individual_temp': 0.0,...   \n",
       "...                                                   ...   \n",
       "286737  [{'camera_temp': 35.8, 'individual_temp': 0.0,...   \n",
       "286738  [{'camera_temp': 35.8, 'individual_temp': 0.0,...   \n",
       "286739  [{'camera_temp': 36.2, 'individual_temp': 0.0,...   \n",
       "286740  [{'camera_temp': 36.1, 'individual_temp': 0.0,...   \n",
       "286741  [{'camera_temp': 33.6, 'individual_temp': 0.0,...   \n",
       "\n",
       "                                        technical_factors  \\\n",
       "0       {'bbody_temp': '35℃', 'netd': '≤50mK', 'range_...   \n",
       "1       {'bbody_temp': '35℃', 'netd': '≤50mK', 'range_...   \n",
       "2       {'bbody_temp': '35℃', 'netd': '≤50mK', 'range_...   \n",
       "3       {'bbody_temp': '35℃', 'netd': '≤50mK', 'range_...   \n",
       "4       {'bbody_temp': '35℃', 'netd': '≤50mK', 'range_...   \n",
       "...                                                   ...   \n",
       "286737  {'bbody_temp': '35℃', 'netd': '≤50mK', 'range_...   \n",
       "286738  {'bbody_temp': '35℃', 'netd': '≤50mK', 'range_...   \n",
       "286739  {'bbody_temp': '35℃', 'netd': '≤50mK', 'range_...   \n",
       "286740  {'bbody_temp': '35℃', 'netd': '≤50mK', 'range_...   \n",
       "286741  {'bbody_temp': '35℃', 'netd': '≤50mK', 'range_...   \n",
       "\n",
       "                      image_id  \n",
       "0       A1_H_T_20201012_075143  \n",
       "1       A1_H_T_20201012_075245  \n",
       "2       A1_H_T_20201012_080044  \n",
       "3       A1_H_T_20201012_081511  \n",
       "4       A1_H_T_20201012_081512  \n",
       "...                        ...  \n",
       "286737  F1_H_T_20201127_130319  \n",
       "286738  F1_H_T_20201127_130349  \n",
       "286739  F1_H_T_20201127_130429  \n",
       "286740  F1_H_T_20201127_130431  \n",
       "286741  F1_H_T_20201127_130932  \n",
       "\n",
       "[286742 rows x 4 columns]>"
      ]
     },
     "execution_count": 7,
     "metadata": {},
     "output_type": "execute_result"
    }
   ],
   "source": [
    "df.abs"
   ]
  },
  {
   "cell_type": "code",
   "execution_count": 13,
   "metadata": {},
   "outputs": [],
   "source": [
    "with open(file_path, 'r', encoding=\"UTF-8\") as fp:\n",
    "    jsdata = json.load(fp)"
   ]
  },
  {
   "cell_type": "code",
   "execution_count": 39,
   "metadata": {},
   "outputs": [],
   "source": [
    "with open(pairfile_path, 'r', encoding=\"UTF-8\") as fp:\n",
    "    pairjs = json.load(fp)"
   ]
  },
  {
   "cell_type": "code",
   "execution_count": 40,
   "metadata": {},
   "outputs": [
    {
     "data": {
      "text/plain": [
       "(286742, 2551)"
      ]
     },
     "execution_count": 40,
     "metadata": {},
     "output_type": "execute_result"
    }
   ],
   "source": [
    "len(jsdata), len(pairjs)"
   ]
  },
  {
   "cell_type": "code",
   "execution_count": 22,
   "metadata": {},
   "outputs": [
    {
     "name": "stdout",
     "output_type": "stream",
     "text": [
      "{'environmental_factors': {'illumination': 0, 'temp_inside': 0.0, 'camera_type': 'H', 'temp_outside': 0.0, 'humid_outside': 0.0, 'place': 'A1', 'day': '20201012', 'humid_inside': 0.0, 'hms': '075143', 'image_type': 'T', 'wind': 0.0}, 'individual_factors': [{'camera_temp': 36.6, 'individual_temp': 0.0, 'distance': 5, 'bbox': [1056, 524, 179, 211], 'optional': {'gender': 'male', 'body_type': 'normal', 'mask_exists': True, 'tall': '120-180', 'is_short_sleeve': False, 'age': 'middle-age', 'outer_exists': True}}], 'technical_factors': {'bbody_temp': '35℃', 'netd': '≤50mK', 'range_of_spectrum': '8~14㎛', 'model': 'DH-TPC-BF3221-T', 'temperature_range': '30~45℃', 'temperature_accuracy': '±0.3℃ w/blackbody', 'resolution': '1280x960', 'bbody_emissivity': '0.97±0.02'}, 'image_id': 'A1_H_T_20201012_075143'}\n"
     ]
    }
   ],
   "source": [
    "print(jsdata[0])"
   ]
  },
  {
   "cell_type": "code",
   "execution_count": 41,
   "metadata": {},
   "outputs": [
    {
     "name": "stdout",
     "output_type": "stream",
     "text": [
      "{'environmental_factors': {'illumination': 328, 'temp_inside': 21.3, 'camera_type': 'H', 'temp_outside': 12.1, 'humid_outside': 30.0, 'place': 'A1', 'day': '20201110', 'humid_inside': 23.0, 'hms': '120952', 'image_type': 'T', 'wind': 1.5}, 'individual_factors': [{'camera_temp': 35.9, 'individual_temp': 36.1, 'distance': 5, 'bbox': [898, 506, 224, 235], 'optional': {'gender': 'male', 'body_type': 'normal', 'mask_exists': True, 'tall': '120-180', 'is_short_sleeve': False, 'age': 'middle-age', 'outer_exists': True}}], 'technical_factors': {'bbody_temp': '35℃', 'netd': '≤50mK', 'range_of_spectrum': '8~14㎛', 'model': 'DH-TPC-BF3221-T', 'temperature_range': '30~45℃', 'temperature_accuracy': '±0.3℃ w/blackbody', 'resolution': '1280x960', 'bbody_emissivity': '0.97±0.02'}, 'image_id': 'A1_H_T_20201110_120952'}\n"
     ]
    }
   ],
   "source": [
    "print(pairjs[0])"
   ]
  },
  {
   "cell_type": "code",
   "execution_count": 21,
   "metadata": {},
   "outputs": [
    {
     "data": {
      "text/plain": [
       "[{'camera_temp': 36.6,\n",
       "  'individual_temp': 0.0,\n",
       "  'distance': 5,\n",
       "  'bbox': [1056, 524, 179, 211],\n",
       "  'optional': {'gender': 'male',\n",
       "   'body_type': 'normal',\n",
       "   'mask_exists': True,\n",
       "   'tall': '120-180',\n",
       "   'is_short_sleeve': False,\n",
       "   'age': 'middle-age',\n",
       "   'outer_exists': True}}]"
      ]
     },
     "execution_count": 21,
     "metadata": {},
     "output_type": "execute_result"
    }
   ],
   "source": [
    "jsdata[0]['individual_factors']"
   ]
  },
  {
   "cell_type": "code",
   "execution_count": 46,
   "metadata": {},
   "outputs": [],
   "source": [
    "\n",
    "temp_dic = {}\n",
    "for person in jsdata:\n",
    "    temp_outside = person['individual_factors'][0]['individual_temp']\n",
    "    \n",
    "    if temp_outside in temp_dic:\n",
    "        temp_dic[temp_outside] += 1\n",
    "    else:\n",
    "        temp_dic[temp_outside] = 1"
   ]
  },
  {
   "cell_type": "code",
   "execution_count": 54,
   "metadata": {},
   "outputs": [
    {
     "name": "stdout",
     "output_type": "stream",
     "text": [
      "[(0.1, 1), (1.0, 1), (2.0, 1), (3.0, 1), (4.0, 1), (9.0, 1), (32.0, 13), (32.1, 4), (32.2, 6), (32.3, 2), (32.4, 1), (32.5, 1), (32.6, 1), (32.8, 1), (33.1, 1), (33.4, 1), (33.6, 1), (33.7, 1), (33.8, 2), (34.0, 3), (34.1, 3), (34.2, 6), (34.3, 4), (34.4, 3), (34.5, 5), (34.6, 6), (34.7, 4), (34.8, 10), (34.9, 10), (35.0, 8), (35.1, 9), (35.2, 26), (35.3, 32), (35.4, 37), (35.5, 43), (35.6, 43), (35.7, 65), (35.8, 66), (35.9, 85), (36.0, 143), (36.1, 160), (36.2, 181), (36.3, 202), (36.4, 232), (36.5, 319), (36.6, 321), (36.7, 296), (36.8, 311), (36.9, 285), (37.0, 187), (37.1, 123), (37.2, 109), (37.3, 66), (37.4, 38), (37.5, 18), (37.6, 13), (37.7, 2), (38.7, 1)]\n"
     ]
    }
   ],
   "source": [
    "del temp_dic[0.0]\n",
    "sorted_dict = sorted(temp_dic.items())\n",
    "print(sorted_dict)"
   ]
  },
  {
   "cell_type": "code",
   "execution_count": 55,
   "metadata": {},
   "outputs": [
    {
     "data": {
      "text/plain": [
       "(array([3.000e+00, 1.000e+00, 1.000e+00, 0.000e+00, 1.000e+00, 0.000e+00,\n",
       "        0.000e+00, 0.000e+00, 0.000e+00, 0.000e+00, 0.000e+00, 0.000e+00,\n",
       "        0.000e+00, 0.000e+00, 0.000e+00, 0.000e+00, 2.900e+01, 5.000e+01,\n",
       "        2.278e+03, 1.153e+03]),\n",
       " array([ 0.1 ,  2.03,  3.96,  5.89,  7.82,  9.75, 11.68, 13.61, 15.54,\n",
       "        17.47, 19.4 , 21.33, 23.26, 25.19, 27.12, 29.05, 30.98, 32.91,\n",
       "        34.84, 36.77, 38.7 ]),\n",
       " <BarContainer object of 20 artists>)"
      ]
     },
     "execution_count": 55,
     "metadata": {},
     "output_type": "execute_result"
    },
    {
     "data": {
      "image/png": "[encoded data removed]",
      "text/plain": [
       "<Figure size 432x288 with 1 Axes>"
      ]
     },
     "metadata": {
      "needs_background": "light"
     },
     "output_type": "display_data"
    }
   ],
   "source": [
    "mylist = [key for key, val in temp_dic.items() for _ in range(val)]\n",
    "plt.hist(mylist, bins=20)"
   ]
  },
  {
   "cell_type": "code",
   "execution_count": null,
   "metadata": {},
   "outputs": [],
   "source": []
  }
 ],
 "metadata": {
  "interpreter": {
   "hash": "205c232381147f1aeed254cad78312ecffe0f61c54d117bca0a3bde76917375f"
  },
  "kernelspec": {
   "display_name": "Python 3.8.11 64-bit ('py38': conda)",
   "language": "python",
   "name": "python3"
  },
  "language_info": {
   "codemirror_mode": {
    "name": "ipython",
    "version": 3
   },
   "file_extension": ".py",
   "mimetype": "text/x-python",
   "name": "python",
   "nbconvert_exporter": "python",
   "pygments_lexer": "ipython3",
   "version": "3.8.11"
  },
  "orig_nbformat": 4
 },
 "nbformat": 4,
 "nbformat_minor": 2
}
